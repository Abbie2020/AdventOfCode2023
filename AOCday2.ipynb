{
 "cells": [
  {
   "cell_type": "code",
   "execution_count": 47,
   "metadata": {},
   "outputs": [
    {
     "name": "stdout",
     "output_type": "stream",
     "text": [
      "54911\n"
     ]
    }
   ],
   "source": [
    "# PART 1\n",
    "\n",
    "import re\n",
    "\n",
    "bag = {'red': 12, 'green': 13, 'blue': 14}\n",
    "sum = 0\n",
    "power_sum = 0\n",
    "\n",
    "with open(\"day2input.txt\") as input_file:\n",
    "    for line in input_file:\n",
    "        game_id = re.search(r'(\\d+):', line).group(1)\n",
    "        game_dict = {}\n",
    "        game = line.split(':')[1].strip()\n",
    "        set_no = 0\n",
    "        sets = game.split('; ')\n",
    "        for s in sets:\n",
    "            set_no += 1\n",
    "            set_name = 'set' + str(set_no)\n",
    "            colours = s.split(', ')\n",
    "            colour_dict = {}\n",
    "            for c in colours:\n",
    "                number = int(c.split(\" \")[0])\n",
    "                colour = c.split(\" \")[1]\n",
    "                colour_dict[colour] = number\n",
    "            game_dict[set_name] = colour_dict\n",
    "\n",
    "        max_vals = {}\n",
    "        for k,v in game_dict.items():\n",
    "            for key, val in v.items():\n",
    "                if key in max_vals:\n",
    "                    max_vals[key] = max(max_vals[key], val)\n",
    "                else:\n",
    "                    max_vals[key] = val\n",
    "\n",
    "        possibility = []\n",
    "\n",
    "        for k, v in bag.items():\n",
    "            if max_vals[k] > v:\n",
    "                possibility.append('impossible')\n",
    "            else:\n",
    "                possibility.append('possible')\n",
    "        if 'impossible' not in possibility:\n",
    "            sum += int(game_id)\n",
    "\n",
    "        # PART 2\n",
    "        result = 1\n",
    "        for k, v in max_vals.items():\n",
    "            result = result * v\n",
    "        power_sum += result\n",
    "\n",
    "# PART 1 ANSWER\n",
    "# print(sum)\n",
    "\n",
    "# PART 2 ANSWER\n",
    "print(power_sum)\n",
    "\n",
    "                "
   ]
  },
  {
   "cell_type": "code",
   "execution_count": null,
   "metadata": {},
   "outputs": [],
   "source": []
  }
 ],
 "metadata": {
  "kernelspec": {
   "display_name": "base",
   "language": "python",
   "name": "python3"
  },
  "language_info": {
   "codemirror_mode": {
    "name": "ipython",
    "version": 3
   },
   "file_extension": ".py",
   "mimetype": "text/x-python",
   "name": "python",
   "nbconvert_exporter": "python",
   "pygments_lexer": "ipython3",
   "version": "3.6.5"
  }
 },
 "nbformat": 4,
 "nbformat_minor": 2
}
