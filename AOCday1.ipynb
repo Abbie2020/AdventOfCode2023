{
 "cells": [
  {
   "cell_type": "code",
   "execution_count": 25,
   "metadata": {},
   "outputs": [
    {
     "name": "stdout",
     "output_type": "stream",
     "text": [
      "54951\n"
     ]
    }
   ],
   "source": [
    "# PART 1\n",
    "\n",
    "cal_values = []\n",
    "\n",
    "with open(\"day1input.txt\") as input_file:\n",
    "    for line in input_file:\n",
    "        #print(line)\n",
    "        digits = []\n",
    "        for char in line:\n",
    "            if char.isdigit():\n",
    "                digits.append(char)\n",
    "        #print(digits)\n",
    "        cal_value = digits[0] + digits[-1]\n",
    "        #print(cal_value)\n",
    "        cal_values.append(cal_value)\n",
    "\n",
    "total = 0\n",
    "for val in cal_values:\n",
    "    total += int(val)\n",
    "\n",
    "print(total)"
   ]
  },
  {
   "cell_type": "code",
   "execution_count": null,
   "metadata": {},
   "outputs": [],
   "source": [
    "# PART 2\n",
    "\n",
    "number_dict = {\n",
    "    'one': 1,\n",
    "    'two': 2,\n",
    "    'three': 3,\n",
    "    'four': 4,\n",
    "    'five': 5,\n",
    "    'six': 6,\n",
    "    'seven': 7,\n",
    "    'eight': 8,\n",
    "    'nine': 9\n",
    "}\n",
    "\n"
   ]
  }
 ],
 "metadata": {
  "kernelspec": {
   "display_name": "Python 3",
   "language": "python",
   "name": "python3"
  },
  "language_info": {
   "codemirror_mode": {
    "name": "ipython",
    "version": 3
   },
   "file_extension": ".py",
   "mimetype": "text/x-python",
   "name": "python",
   "nbconvert_exporter": "python",
   "pygments_lexer": "ipython3",
   "version": "3.6.5"
  }
 },
 "nbformat": 4,
 "nbformat_minor": 2
}
